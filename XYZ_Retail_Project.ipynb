{
 "cells": [
  {
   "cell_type": "markdown",
   "id": "c1cd18bf-d003-4332-bf80-f3e135790ad1",
   "metadata": {},
   "source": [
    "## Data Analysis for a Retail Company\n",
    "Project Overview:\n",
    "XYZ Retail Company, a leading retailer in the industry, is looking to enhance its data\n",
    "analysis capabilities. To do this, they are developing a suite of Python-based tools to\n",
    "analyze their business data effectively. As a junior data scientist, your task is to\n",
    "create and implement various Python codes to solve basic data science problems\n",
    "related to their operations.\n"
   ]
  },
  {
   "cell_type": "code",
   "execution_count": 2,
   "id": "952b8ad5-fa86-465b-be04-82295aa76fe6",
   "metadata": {},
   "outputs": [],
   "source": [
    "import numpy as np\n",
    "import pandas as pd"
   ]
  },
  {
   "cell_type": "markdown",
   "id": "65a7a5d7-4f2a-41ae-9133-7f57686c22e9",
   "metadata": {},
   "source": [
    "### Task 1: Sales Data Summary\n",
    "Objective: XYZ Retail wants to automate the process of calculating basic sales metrics.\n",
    "● Assign the number of units sold in two categories, `Category A` and `Category B`, to variables.\n",
    "● Calculate the total units sold, the difference between the categories, and the ratio of units sold.\n",
    "● Print these results clearly on the management team."
   ]
  },
  {
   "cell_type": "code",
   "execution_count": 3,
   "id": "c999aacc-3b1b-4c8f-91c5-fe777ec88f45",
   "metadata": {},
   "outputs": [
    {
     "name": "stdout",
     "output_type": "stream",
     "text": [
      "Sales Data Summary:\n",
      "Total Units Sold: 270\n",
      "Difference Between Categories: 30\n",
      "Ratio of Category A to Category B: 1.25\n"
     ]
    }
   ],
   "source": [
    "# Assigning units sold of each category\n",
    "category_A_sold_units = 150\n",
    "category_B_sold_units = 120\n",
    "\n",
    "# To Calculate the total units sold\n",
    "total_units_sold = category_A_sold_units + category_B_sold_units\n",
    "\n",
    "# To Calculate difference between units sold for 2 categories\n",
    "diff_units_sold = category_A_sold_units - category_B_sold_units\n",
    "\n",
    "# Calculate ratio (Category A to Category B)\n",
    "ratio_A_to_B = category_A_sold_units / category_B_sold_units\n",
    "\n",
    "# Printing the Results\n",
    "print(\"Sales Data Summary:\")\n",
    "print(\"Total Units Sold:\", total_units_sold )\n",
    "print(\"Difference Between Categories:\", diff_units_sold )\n",
    "print(\"Ratio of Category A to Category B:\",ratio_A_to_B)\n"
   ]
  },
  {
   "cell_type": "code",
   "execution_count": null,
   "id": "8bb467fb-7402-4365-a972-44d7f5f0477a",
   "metadata": {},
   "outputs": [],
   "source": []
  },
  {
   "cell_type": "markdown",
   "id": "27305e2f-a737-4780-b49c-c49e119185c9",
   "metadata": {},
   "source": [
    "### Task 2: Customer Age Data\n",
    "Objective: Understanding the age distribution of customers is crucial for marketing strategies.\n",
    "● Store a customer's name and age.\n",
    "● Convert the age into a string and create a personalized marketing message like \"Dear John Doe, at 30, you’re eligible for our premium loyalty program.\"\n",
    "● Print the message for use in email campaigns."
   ]
  },
  {
   "cell_type": "code",
   "execution_count": 4,
   "id": "d61de727-2600-40a7-8464-24662c76075c",
   "metadata": {},
   "outputs": [
    {
     "name": "stdout",
     "output_type": "stream",
     "text": [
      "Dear John Doe, at 30, you’re eligible for our premium loyalty program.\n"
     ]
    }
   ],
   "source": [
    "# Storing customer details like name and age\n",
    "cust_name = \"John Doe\"\n",
    "cust_age = 30\n",
    "\n",
    "# Convert age to string\n",
    "cust_age_str = str(cust_age)\n",
    "\n",
    "# Creating personalized marketing message\n",
    "per_message = f\"Dear {cust_name}, at {cust_age_str}, you’re eligible for our premium loyalty program.\"\n",
    "\n",
    "# Print the personalized message\n",
    "print(per_message)\n"
   ]
  },
  {
   "cell_type": "code",
   "execution_count": null,
   "id": "6c2042f5-acb7-4eaf-a11a-b1ac0ae0c6f3",
   "metadata": {},
   "outputs": [],
   "source": []
  },
  {
   "cell_type": "markdown",
   "id": "eacfa4c6-f409-4fdc-92d3-a373f6c598c2",
   "metadata": {},
   "source": [
    "### Task 3: Product List Management\n",
    "Objective: Efficient management of the product list is essential for inventory control.\n",
    "● Given a list of product prices, extract the highest and lowest prices.\n",
    "● Create a new list with the mid-range products.\n",
    "● Add a new premium product price to the list and print the updated list for the inventory team."
   ]
  },
  {
   "cell_type": "code",
   "execution_count": 5,
   "id": "3272456c-4588-4e93-b902-0991964799b1",
   "metadata": {},
   "outputs": [
    {
     "name": "stdout",
     "output_type": "stream",
     "text": [
      "Highest Price: 200\n",
      "Lowest Price: 30\n",
      "Mid-Range Products: [50, 120, 90, 150, 180]\n",
      "Updated Product List with Premium Price: [50, 120, 30, 200, 90, 150, 180, 250]\n"
     ]
    }
   ],
   "source": [
    "# Storing the product prices in a list and the new premium product price in a separate variable\n",
    "product_prices = [50, 120, 30, 200, 90, 150, 180]\n",
    "premium_product_price = 250\n",
    "\n",
    "# Extract lowest, highest, and mid-range products\n",
    "lowest_price = min (product_prices)\n",
    "highest_price = max (product_prices)\n",
    "mid_range_products = [i for i in product_prices \n",
    "                      if i != highest_price and i != lowest_price]  # excluding the highest and lowest value.\n",
    "\n",
    "# Add premium product price to the list\n",
    "updated_product_list = product_prices.copy()  # make a copy to avoid modification in original variable\n",
    "updated_product_list.append(premium_product_price)\n",
    "\n",
    "# Printing the results\n",
    "print(\"Highest Price:\", highest_price)\n",
    "print(\"Lowest Price:\", lowest_price)\n",
    "print(\"Mid-Range Products:\", mid_range_products)\n",
    "print(\"Updated Product List with Premium Price:\", updated_product_list)\n"
   ]
  },
  {
   "cell_type": "code",
   "execution_count": null,
   "id": "b3f1fa28-d3bb-4251-860b-c4b6d3e3071d",
   "metadata": {},
   "outputs": [],
   "source": []
  },
  {
   "cell_type": "markdown",
   "id": "a60d9093-baaa-45a2-82b3-eb769b74f812",
   "metadata": {},
   "source": [
    "### Task 4: Inventory Lookup\n",
    "Objective: Quick access to product details is important for customer service representatives.\n",
    "● Create a dictionary storing key information about a product (e.g., `product_name`, `SKU`, `price`, `category`).\n",
    "● Print the product name and SKU when queried by a customer service representative."
   ]
  },
  {
   "cell_type": "code",
   "execution_count": 6,
   "id": "4575d6c4-d189-4ab8-b2f0-9422228eb336",
   "metadata": {},
   "outputs": [
    {
     "name": "stdout",
     "output_type": "stream",
     "text": [
      "Product Name: Wireless Mouse\n",
      "Product SKU: WM-12345\n"
     ]
    }
   ],
   "source": [
    "# Creating the dictionary with product key information\n",
    "product_info = {\n",
    "    \"product_name\": \"Wireless Mouse\",\n",
    "    \"SKU\": \"WM-12345\",\n",
    "    \"price\": 25.99,\n",
    "    \"category\": \"Electronics\"\n",
    "}\n",
    "\n",
    "# Print only the product name and SKU for customer service use\n",
    "print(\"Product Name:\", product_info[\"product_name\"])\n",
    "print(\"Product SKU:\", product_info[\"SKU\"])\n"
   ]
  },
  {
   "cell_type": "markdown",
   "id": "e3f8a15d-a1ae-4c3a-8aef-8f77c83aaf10",
   "metadata": {},
   "source": [
    "# "
   ]
  },
  {
   "cell_type": "markdown",
   "id": "56e24a86-89bb-4d4e-bac3-99a22f38ce2a",
   "metadata": {},
   "source": [
    "### Task 5: Stock Level Alert System\n",
    "Objective: Ensuring that stock levels are maintained is critical to avoid stockouts.\n",
    "● Write the code that takes the stock level as input.\n",
    "● If stock is below a certain threshold, print a \"Reorder Now\" alert. If stock is above the threshold, print \"Stock is suffi cient.\""
   ]
  },
  {
   "cell_type": "code",
   "execution_count": 7,
   "id": "491a36d5-5b63-4ac6-a1c3-fced85b2f8f7",
   "metadata": {},
   "outputs": [
    {
     "name": "stdin",
     "output_type": "stream",
     "text": [
      "Enter stock level:  10\n"
     ]
    },
    {
     "name": "stdout",
     "output_type": "stream",
     "text": [
      "Reorder Now\n"
     ]
    }
   ],
   "source": [
    "# Enter stock level as input and storing into variable\n",
    "stock_level = int(input(\"Enter stock level: \"))\n",
    "\n",
    "# Setting the threshhold value\n",
    "threshold_value = 20\n",
    "\n",
    "# Checking and printing the appropriate message\n",
    "if stock_level < threshold_value:\n",
    "    print(\"Reorder Now\")\n",
    "else:\n",
    "    print(\"Stock is sufficient\")\n"
   ]
  },
  {
   "cell_type": "code",
   "execution_count": null,
   "id": "fa3a468b-c680-4ecb-9dfb-e3652ab7640b",
   "metadata": {},
   "outputs": [],
   "source": []
  },
  {
   "cell_type": "markdown",
   "id": "3698f678-a437-4e8c-9b86-d250f3359731",
   "metadata": {},
   "source": [
    "### Task 6: Sales Report Formatting\n",
    "Objective: Formatting the sales data for management reports is crucial.\n",
    "● Given a list of products sold, print each product name in uppercase for better visibility in reports.\n",
    "● Implement both a `for` loop and a `while` loop for this task to ensure code fl exibility.\n"
   ]
  },
  {
   "cell_type": "code",
   "execution_count": 8,
   "id": "b97d1cf1-e50f-48fb-ad21-11bbe17a9cdc",
   "metadata": {},
   "outputs": [
    {
     "name": "stdout",
     "output_type": "stream",
     "text": [
      "Printing Product list using for loop:\n",
      "LAPTOP\n",
      "MOUSE\n",
      "KEYBOARD\n",
      "MONITOR\n",
      "PRINTER\n",
      "\n",
      "Printing Product list using while loop:\n",
      "LAPTOP\n",
      "MOUSE\n",
      "KEYBOARD\n",
      "MONITOR\n",
      "PRINTER\n"
     ]
    }
   ],
   "source": [
    "# Creating product list\n",
    "products_sold = [\"laptop\", \"mouse\", \"keyboard\", \"monitor\", \"printer\"]\n",
    "\n",
    "print(\"Printing Product list using for loop:\")\n",
    "for i in products_sold:\n",
    "    print(i.upper())\n",
    "\n",
    "\n",
    "print(\"\\nPrinting Product list using while loop:\")\n",
    "i = 0\n",
    "while i < len(products_sold):\n",
    "    print(products_sold[i].upper())\n",
    "    i += 1\n"
   ]
  },
  {
   "cell_type": "code",
   "execution_count": null,
   "id": "22eee92b-f851-44a3-a522-1a02c60a89cf",
   "metadata": {},
   "outputs": [],
   "source": []
  },
  {
   "cell_type": "markdown",
   "id": "a43ff92a-055e-4834-bbf8-6365fb4f48be",
   "metadata": {},
   "source": [
    "### Task 7: Area Calculation for Store Layout\n",
    "Objective: Accurate area calculations are needed to plan new store layouts.\n",
    "● Create a function that calculates the area of a section of the store based on length and width.\n",
    "● Use this function to calculate and print the area of several store sections."
   ]
  },
  {
   "cell_type": "code",
   "execution_count": 9,
   "id": "f54c66e6-9cc7-4002-b78f-d3c16fda6990",
   "metadata": {},
   "outputs": [
    {
     "name": "stdin",
     "output_type": "stream",
     "text": [
      "Enter the lenghth of Section 1 in meters :  20\n",
      "Enter the width of Section 1 in meters :  15\n"
     ]
    },
    {
     "name": "stdout",
     "output_type": "stream",
     "text": [
      "The area of section 1 is 300.0 square meters.\n",
      "\n"
     ]
    },
    {
     "name": "stdin",
     "output_type": "stream",
     "text": [
      "Enter the lenghth of Section 2 in meters :  15.5\n",
      "Enter the width of Section 2 in meters :  25\n"
     ]
    },
    {
     "name": "stdout",
     "output_type": "stream",
     "text": [
      "The area of section 2 is 387.5 square meters.\n",
      "\n"
     ]
    },
    {
     "name": "stdin",
     "output_type": "stream",
     "text": [
      "Enter the lenghth of Section 3 in meters :  30\n",
      "Enter the width of Section 3 in meters :  32.5\n"
     ]
    },
    {
     "name": "stdout",
     "output_type": "stream",
     "text": [
      "The area of section 3 is 975.0 square meters.\n"
     ]
    }
   ],
   "source": [
    "# Defining the Function to calculate area\n",
    "def calculate_area(length, width):\n",
    "    return length * width\n",
    "\n",
    "# Defining main function to calculate areas of multiple sections\n",
    "def main():\n",
    "    length1 = float(input(\"Enter the lenghth of Section 1 in meters : \"))\n",
    "    width1 = float(input(\"Enter the width of Section 1 in meters : \"))\n",
    "    print(f\"The area of section 1 is {calculate_area(length1, width1)} square meters.\")\n",
    "    print(\"\")\n",
    "    \n",
    "    length2 = float(input(\"Enter the lenghth of Section 2 in meters : \"))\n",
    "    width2 = float(input(\"Enter the width of Section 2 in meters : \"))\n",
    "    print(f\"The area of section 2 is {calculate_area(length2, width2)} square meters.\")\n",
    "    print(\"\")\n",
    "\n",
    "    length3 = float(input(\"Enter the lenghth of Section 3 in meters : \"))\n",
    "    width3 = float(input(\"Enter the width of Section 3 in meters : \"))\n",
    "    print(f\"The area of section 3 is {calculate_area(length3, width3)} square meters.\")\n",
    "\n",
    "# Run the main function\n",
    "main()\n"
   ]
  },
  {
   "cell_type": "code",
   "execution_count": null,
   "id": "01362d1f-535f-477e-9e2c-62d205954149",
   "metadata": {},
   "outputs": [],
   "source": []
  },
  {
   "cell_type": "markdown",
   "id": "cf518f63-37a8-43f3-aba6-125c7252b116",
   "metadata": {},
   "source": [
    "### Task 8: Customer Feedback Analysis\n",
    "Objective: Analyzing customer feedback is vital to improving service.\n",
    "● Write the code to count the number of vowels in a customer feedback message.\n",
    "● Also, reverse the feedback message for a unique data presentation in reports."
   ]
  },
  {
   "cell_type": "code",
   "execution_count": 10,
   "id": "8ed0e2b2-65b1-4b75-b42a-d6cbf565c29d",
   "metadata": {},
   "outputs": [
    {
     "name": "stdout",
     "output_type": "stream",
     "text": [
      "Customer Feedback Analysis:\n",
      "Original Feedback: I loved the fast and friendly service!\n",
      "Number of Vowels: 11\n",
      "Reversed Feedback: !ecivres yldneirf dna tsaf eht devol I\n"
     ]
    }
   ],
   "source": [
    "# customer feedback `\n",
    "feedback = \"I loved the fast and friendly service!\"\n",
    "\n",
    "# Count the number of vowels\n",
    "vowels = \"aeiouAEIOU\"\n",
    "vowel_count = sum(1 for char in feedback if char in vowels)\n",
    "\n",
    "# Reverse the feedback message\n",
    "rev_feedback = feedback[::-1]\n",
    "\n",
    "# Print the analysis\n",
    "print(\"Customer Feedback Analysis:\")\n",
    "print(\"Original Feedback:\", feedback)\n",
    "print(\"Number of Vowels:\", vowel_count)\n",
    "print(\"Reversed Feedback:\", rev_feedback)\n"
   ]
  },
  {
   "cell_type": "code",
   "execution_count": null,
   "id": "76580ab6-e051-46b8-8066-12f5aa754bde",
   "metadata": {},
   "outputs": [],
   "source": []
  },
  {
   "cell_type": "markdown",
   "id": "055c0241-7b47-405c-aa09-05e33e98812a",
   "metadata": {},
   "source": [
    "### Task 9: Price Filtering Tool\n",
    "Objective: Filtering product prices helps in creating targeted discounts.\n",
    "● Use list comprehension to filter out products priced below a certain threshold from the product list.\n",
    "● Print the list of eligible products for a discount campaign."
   ]
  },
  {
   "cell_type": "code",
   "execution_count": 12,
   "id": "7c10d0f0-8e9e-44c2-a6b9-250d6c6fd003",
   "metadata": {},
   "outputs": [
    {
     "name": "stdout",
     "output_type": "stream",
     "text": [
      "Products eligible for the discount campaign: [85, 45]\n"
     ]
    }
   ],
   "source": [
    "# Creating and storing product prices and discount threshold\n",
    "product_prices = [150, 85, 300, 120, 45, 200]\n",
    "discount_threshold = 100\n",
    "\n",
    "# Use list comprehension to filter prices below threshold\n",
    "eligible_products = [i for i in product_prices if i < discount_threshold]\n",
    "\n",
    "# Printing the result\n",
    "print(\"Products eligible for the discount campaign:\", eligible_products)\n"
   ]
  },
  {
   "cell_type": "code",
   "execution_count": null,
   "id": "d537725a-8dfb-401d-99f7-80f5461d7bd8",
   "metadata": {},
   "outputs": [],
   "source": []
  },
  {
   "cell_type": "markdown",
   "id": "8938cfa0-c694-4637-a720-6164bd52b9a1",
   "metadata": {},
   "source": [
    "### Task 10: Sales Log File Management\n",
    "Objective: Proper management of sales log files is necessary for compliance and audit purposes.\n",
    "● Create a text file named `sales_log.txt` to store daily sales summaries.\n",
    "● Write two lines summarizing the daily sales performance.\n",
    "● Read and print the content of the file to ensure data integrity."
   ]
  },
  {
   "cell_type": "code",
   "execution_count": 13,
   "id": "a9f25780-0cf8-46cd-8887-632ec3dc5f8d",
   "metadata": {},
   "outputs": [
    {
     "name": "stdout",
     "output_type": "stream",
     "text": [
      "Content of 'sales_log.txt':\n",
      "Total sales today: $12,345.\n",
      "Number of transactions: 123.\n",
      "\n"
     ]
    }
   ],
   "source": [
    "# Creating a Text File name\n",
    "file_name = \"sales_log.txt\"\n",
    "\n",
    "# Storing daily Sales summary lines\n",
    "line1 = \"Total sales today: $12,345.\"\n",
    "line2 = \"Number of transactions: 123.\"\n",
    "\n",
    "# Write the sales summary to the file\n",
    "with open(file_name, \"w\") as file:\n",
    "    file.write(line1 + \"\\n\")\n",
    "    file.write(line2 + \"\\n\")\n",
    "\n",
    "# Reading and printing the content of the file\n",
    "print(\"Content of 'sales_log.txt':\")\n",
    "with open(file_name, \"r\") as file:\n",
    "    content = file.read()\n",
    "    print(content)  \n"
   ]
  },
  {
   "cell_type": "code",
   "execution_count": null,
   "id": "0db49902-0ca7-44e0-8317-089f7fc9c080",
   "metadata": {},
   "outputs": [],
   "source": []
  },
  {
   "cell_type": "markdown",
   "id": "767ab1e0-d513-423f-ba92-a2397bcabbee",
   "metadata": {},
   "source": [
    "### Task 11: Daily Sales Average\n",
    "Objective: Calculate the average daily sales for the past week.\n",
    "● Given a list of sales figures for the last 7 days, calculate the average sales.\n",
    "● Print the average sales to help the finance team understand the weekly performance."
   ]
  },
  {
   "cell_type": "code",
   "execution_count": 14,
   "id": "8404f0dc-888d-4124-ac45-fa8b7e7dc796",
   "metadata": {},
   "outputs": [
    {
     "name": "stdout",
     "output_type": "stream",
     "text": [
      "Average Daily Sales for the Past Week: $1471.43\n"
     ]
    }
   ],
   "source": [
    "# Creating the List of daily sales for the past 7 days\n",
    "daily_sales = [1200, 1500, 1100, 1800, 1700, 1600, 1400]\n",
    "\n",
    "# Calculating the average\n",
    "avg_sales = sum(daily_sales) / len(daily_sales)\n",
    "\n",
    "# Printing the average\n",
    "print(f\"Average Daily Sales for the Past Week: ${avg_sales:.2f}\")\n"
   ]
  },
  {
   "cell_type": "code",
   "execution_count": null,
   "id": "0ada663e-f34c-4590-925f-23e08973b29e",
   "metadata": {},
   "outputs": [],
   "source": []
  },
  {
   "cell_type": "markdown",
   "id": "41bc48b5-eecf-4cd7-af74-6ef654a0257a",
   "metadata": {},
   "source": [
    "### Task 12: Customer Segmentation\n",
    "Objective: Categorize customers based on their total spending.\n",
    "● Create a list of customer spending amounts.\n",
    "● Use a loop to categorize customers as \"Low\", \"Medium\", or \"High\" spenders based on their spending amount.\n",
    "● Print the categorized results to assist in targeted marketing."
   ]
  },
  {
   "cell_type": "code",
   "execution_count": 15,
   "id": "b32155af-9327-4f65-9b22-fecd628b174f",
   "metadata": {},
   "outputs": [
    {
     "name": "stdout",
     "output_type": "stream",
     "text": [
      "Customer Spending Categories:\n",
      "Customer 1: Spending = $200 -> Category: Low\n",
      "Customer 2: Spending = $800 -> Category: Medium\n",
      "Customer 3: Spending = $1500 -> Category: High\n",
      "Customer 4: Spending = $3000 -> Category: High\n",
      "Customer 5: Spending = $450 -> Category: Low\n",
      "Customer 6: Spending = $1200 -> Category: Medium\n"
     ]
    }
   ],
   "source": [
    "# Creating List of customer spending amounts\n",
    "customer_spendings_amts = [200, 800, 1500, 3000, 450, 1200]\n",
    "\n",
    "# Printing customer categories\n",
    "print(\"Customer Spending Categories:\")\n",
    "for i, j in enumerate(customer_spendings_amts, start=1):\n",
    "    if j < 500:\n",
    "        category = \"Low\"\n",
    "    elif 500 <= j < 1500:\n",
    "        category = \"Medium\"\n",
    "    else:\n",
    "        category = \"High\"\n",
    "    \n",
    "    print(f\"Customer {i}: Spending = ${j} -> Category: {category}\")\n",
    "\n"
   ]
  },
  {
   "cell_type": "code",
   "execution_count": null,
   "id": "4d0c37e7-241b-47cf-84e1-03490189c591",
   "metadata": {},
   "outputs": [],
   "source": []
  },
  {
   "cell_type": "markdown",
   "id": "eb600949-36a5-4ff5-8d43-9be9a9ebee63",
   "metadata": {},
   "source": [
    "### Task 13: Discount Calculation\n",
    "Objective: Automate the calculation of discounts for a promotional campaign.\n",
    "● Write a code that calculates the final price after applying a discount percentage to a product’s original price.\n",
    "● Test this function on a list of products with different discounts and print the final prices.\n"
   ]
  },
  {
   "cell_type": "code",
   "execution_count": 16,
   "id": "29a1e3ad-8424-45ce-802c-437f881c31e1",
   "metadata": {},
   "outputs": [
    {
     "name": "stdout",
     "output_type": "stream",
     "text": [
      "Final Prices After Discounts:\n",
      "Product 1: Original Price = $100, Discount = 10%, Final Price = $90.00\n",
      "Product 2: Original Price = $250, Discount = 20%, Final Price = $200.00\n",
      "Product 3: Original Price = $75, Discount = 15%, Final Price = $63.75\n",
      "Product 4: Original Price = $150, Discount = 5%, Final Price = $142.50\n"
     ]
    }
   ],
   "source": [
    "# Function to calculate final price after discount\n",
    "def calculate_final_price(original_price, discount_percentage):\n",
    "    discount_amount = original_price * (discount_percentage / 100)\n",
    "    return original_price - discount_amount\n",
    "\n",
    "# List of products\n",
    "products = [\n",
    "    {\"name\": \"Product A\", \"original_price\": 100, \"discount_percentage\": 10},\n",
    "    {\"name\": \"Product B\", \"original_price\": 250, \"discount_percentage\": 20},\n",
    "    {\"name\": \"Product C\", \"original_price\": 75, \"discount_percentage\": 15},\n",
    "    {\"name\": \"Product D\", \"original_price\": 150, \"discount_percentage\": 5}\n",
    "]\n",
    "\n",
    "# Print final prices after discounts\n",
    "print(\"Final Prices After Discounts:\")\n",
    "for i, j in enumerate(products, start=1):\n",
    "    final_price = calculate_final_price(j[\"original_price\"], j[\"discount_percentage\"])\n",
    "    print(f\"Product {i}: Original Price = ${j['original_price']}, \"\n",
    "          f\"Discount = {j['discount_percentage']}%, Final Price = ${final_price:.2f}\")\n"
   ]
  },
  {
   "cell_type": "code",
   "execution_count": null,
   "id": "dd42d34e-8462-4ab7-bd48-c2277613cbef",
   "metadata": {},
   "outputs": [],
   "source": []
  },
  {
   "cell_type": "markdown",
   "id": "96e59250-2ab3-45b6-a8eb-267b79f48767",
   "metadata": {},
   "source": [
    "### Task 14: Customer Feedback Sentiment Analysis\n",
    "Objective: Basic sentiment analysis of customer feedback.\n",
    "● Write the Python code that checks if certain positive or negative words (e.g., \"good\", \"bad\", \"happy\", \"disappointed\") are present in customer feedback.\n",
    "● Print \"Positive\" or \"Negative\" based on the words found in the feedback."
   ]
  },
  {
   "cell_type": "code",
   "execution_count": 17,
   "id": "ec9ef26c-09db-475c-9fe3-4b49949efc37",
   "metadata": {},
   "outputs": [
    {
     "name": "stdin",
     "output_type": "stream",
     "text": [
      "Customer feedback is : I am very happy with the service. It was a good experience!\n"
     ]
    },
    {
     "name": "stdout",
     "output_type": "stream",
     "text": [
      "Customer Feedback Sentiment: Positive\n"
     ]
    }
   ],
   "source": [
    "# customer feedback\n",
    "# feedback: \"I am very happy with the service. It was a good experience!\"\n",
    "\n",
    "feedback = str(input(\"Customer feedback is :\"))\n",
    "\n",
    "# Defining positive and negative keywords\n",
    "positive_words = [\"good\", \"happy\", \"excellent\", \"great\"]\n",
    "negative_words = [\"bad\", \"disappointed\", \"poor\", \"terrible\"]\n",
    "\n",
    "# Converting feedback to lowercase for matching\n",
    "feedback_lower = feedback.lower()\n",
    "\n",
    "# Check for presence of positive or negative words\n",
    "positive_words_found = any(word in feedback_lower for word in positive_words)\n",
    "negative_words_found = any(word in feedback_lower for word in negative_words)\n",
    "\n",
    "# Determine sentiment\n",
    "if positive_words_found and not negative_words_found:\n",
    "    sentiment = \"Positive\"\n",
    "elif negative_words_found and not positive_words_found:\n",
    "    sentiment = \"Negative\"\n",
    "elif positive_words_found and negative_words_found:\n",
    "    sentiment = \"Mixed\"\n",
    "else:\n",
    "    sentiment = \"Neutral\"\n",
    "\n",
    "# Printing the result\n",
    "print(\"Customer Feedback Sentiment:\", sentiment)\n"
   ]
  },
  {
   "cell_type": "code",
   "execution_count": null,
   "id": "20c98ce6-5a02-4d86-9cf1-06c2ba3976c2",
   "metadata": {},
   "outputs": [],
   "source": []
  },
  {
   "cell_type": "markdown",
   "id": "db751fad-d150-4927-8f99-c8d4bb8d72a1",
   "metadata": {},
   "source": [
    "### Task 15: Employee Salary Increment Calculator\n",
    "Objective: Calculate the salary increment for employees based on their performance rating.\n",
    "● Create a dictionary that stores employee names and their performance ratings.\n",
    "● Write the code that applies a different increment percentage based on the rating.\n",
    "● Print the updated salary for each employee."
   ]
  },
  {
   "cell_type": "code",
   "execution_count": 18,
   "id": "42d10a46-3472-455f-b016-58ab5f226a08",
   "metadata": {},
   "outputs": [
    {
     "name": "stdout",
     "output_type": "stream",
     "text": [
      "Updated Salaries After Increment:\n",
      "Alice: Current Salary = $50000, Rating = Excellent, Updated Salary = $60000.00\n",
      "Bob: Current Salary = $40000, Rating = Good, Updated Salary = $46000.00\n",
      "Charlie: Current Salary = $45000, Rating = Average, Updated Salary = $49500.00\n",
      "David: Current Salary = $35000, Rating = Poor, Updated Salary = $36750.00\n"
     ]
    }
   ],
   "source": [
    "# Creating dictionary for storing Employee data: current salary and performance rating\n",
    "employees = {\n",
    "    \"Alice\": {\"current_salary\": 50000, \"rating\": \"Excellent\"},\n",
    "    \"Bob\": {\"current_salary\": 40000, \"rating\": \"Good\"},\n",
    "    \"Charlie\": {\"current_salary\": 45000, \"rating\": \"Average\"},\n",
    "    \"David\": {\"current_salary\": 35000, \"rating\": \"Poor\"}\n",
    "}\n",
    "\n",
    "# Deciding Increment percentages based on ratings\n",
    "increments = {\n",
    "    \"Excellent\": 20,\n",
    "    \"Good\": 15,\n",
    "    \"Average\": 10,\n",
    "    \"Poor\": 5\n",
    "}\n",
    "\n",
    "# Printing updated salary details and the final output\n",
    "print(\"Updated Salaries After Increment:\")\n",
    "for name, detail in employees.items():\n",
    "    current_salary = detail[\"current_salary\"]\n",
    "    rating = detail[\"rating\"]\n",
    "    increment_percentage = increments.get(rating, 0)\n",
    "    updated_salary = current_salary + (current_salary * increment_percentage / 100)\n",
    "    print(f\"{name}: Current Salary = ${current_salary}, Rating = {rating}, Updated Salary = ${updated_salary:.2f}\")\n"
   ]
  },
  {
   "cell_type": "code",
   "execution_count": null,
   "id": "b825078b-b870-4abb-ab95-bf38874e442f",
   "metadata": {},
   "outputs": [],
   "source": []
  },
  {
   "cell_type": "markdown",
   "id": "ef78faf9-b34c-4fbd-a85a-bd1fc79f9c16",
   "metadata": {},
   "source": [
    "### Task 16: Monthly Sales Report Generator\n",
    "Objective: Generate a simple text-based monthly sales report.\n",
    "● Create a list of daily sales figures for a month.\n",
    "● Calculate the total and average sales for the month.\n",
    "● Write these statistics to a text file named monthly_report.txt."
   ]
  },
  {
   "cell_type": "code",
   "execution_count": 19,
   "id": "62c9a88e-526c-42fa-85da-b25c75a4b585",
   "metadata": {},
   "outputs": [
    {
     "name": "stdout",
     "output_type": "stream",
     "text": [
      "Report written to 'monthly_report.txt'\n"
     ]
    }
   ],
   "source": [
    "# Creating List of daily sales figures for the month\n",
    "daily_sales = [\n",
    "    200, 250, 300, 400, 350, 500, 450, 300, 250, 400,\n",
    "    200, 300, 450, 500, 400, 250, 350, 300, 450, 400,\n",
    "    250, 300, 200, 400, 350, 300, 500, 450, 300, 250\n",
    "]\n",
    "\n",
    "# Calculating the total and average sales\n",
    "total_sales = sum(daily_sales)\n",
    "average_sales = total_sales / len(daily_sales)\n",
    "\n",
    "# Preparing report content\n",
    "report_content = (\n",
    "    \"Monthly Sales Report\\n\"\n",
    "    \"---------------------\\n\"\n",
    "    f\"Total Sales: ${total_sales}\\n\"\n",
    "    f\"Average Daily Sales: ${average_sales:.2f}\\n\"\n",
    ")\n",
    "\n",
    "# Write the report to a text file\n",
    "with open(\"monthly_report.txt\", \"w\") as file:\n",
    "    file.write(report_content)\n",
    "\n",
    "# Print confirmation (optional)\n",
    "print(\"Report written to 'monthly_report.txt'\")\n"
   ]
  },
  {
   "cell_type": "code",
   "execution_count": null,
   "id": "1eedcc3a-cf19-4354-b70f-6fe6d2ea0d6e",
   "metadata": {},
   "outputs": [],
   "source": []
  },
  {
   "cell_type": "markdown",
   "id": "8e872578-5eee-468c-93f7-0caee9665311",
   "metadata": {},
   "source": [
    "### Task 17: Stock Replenishment Planning\n",
    "Objective: Determine which products need replenishment based on sales data.\n",
    "● Given a list of products and their current stock levels, compare these against a predefi ned threshold.\n",
    "● Print a list of products that need to be reordered to maintain adequate stock levels"
   ]
  },
  {
   "cell_type": "code",
   "execution_count": 20,
   "id": "5a1bed05-6b89-42e0-8157-e36227ebfe78",
   "metadata": {},
   "outputs": [
    {
     "name": "stdout",
     "output_type": "stream",
     "text": [
      "Products that need replenishment:\n",
      "Product C\n",
      "Product E\n"
     ]
    }
   ],
   "source": [
    "# CReating list of products and respective current stock levels\n",
    "products = [\n",
    "    {\"product_name\": \"Product A\", \"stock\": 50},\n",
    "    {\"product_name\": \"Product B\", \"stock\": 150},\n",
    "    {\"product_name\": \"Product C\", \"stock\": 30},\n",
    "    {\"product_name\": \"Product D\", \"stock\": 75},\n",
    "    {\"product_name\": \"Product E\", \"stock\": 20}\n",
    "]\n",
    "\n",
    "# Threshold stock levels below which products need to be reorder\n",
    "threshold = 40\n",
    "\n",
    "# Print products that need to be reordered\n",
    "print(\"Products that need replenishment:\")\n",
    "for prod in products:\n",
    "    if prod[\"stock\"] < threshold:\n",
    "        print(prod[\"product_name\"])\n"
   ]
  },
  {
   "cell_type": "code",
   "execution_count": null,
   "id": "25f27ad4-44fd-46ea-a899-377458fc1cf8",
   "metadata": {},
   "outputs": [],
   "source": []
  },
  {
   "cell_type": "markdown",
   "id": "e9c79702-c49a-49e9-8e50-2d07f8d92ab2",
   "metadata": {},
   "source": [
    "### Task 18: Data Cleaning Utility\n",
    "Objective: Create a utility to clean customer names for better data consistency.\n",
    "● Write the code that takes a list of customer names with extra spaces and inconsistent capitalization.\n",
    "● Clean the names by trimming spaces and standardizing the capitalization (e.g., \"JOHN DOE\" -> \"John Doe\").\n",
    "● Print the cleaned names for database entry.\n"
   ]
  },
  {
   "cell_type": "code",
   "execution_count": 21,
   "id": "f8f778d0-b97a-48f3-b049-ac71a53b659b",
   "metadata": {},
   "outputs": [
    {
     "name": "stdout",
     "output_type": "stream",
     "text": [
      "Cleaned Customer Names for Database Entry:\n",
      "John Doe\n",
      "Mary Smith\n",
      "Alice Johnson\n",
      "Bob White\n"
     ]
    }
   ],
   "source": [
    "# Creating list of customer names with inconsistent formatting\n",
    "customer_names = [\" john doe \", \" MARY SMITH \", \" aLICE JOHNSON \", \"bOB WHITE\"]\n",
    "\n",
    "# Cleaning the  list using strip() and title()\n",
    "cleaned_names = [name.strip().title() for name in customer_names]\n",
    "\n",
    "# Printing the cleaned names\n",
    "print(\"Cleaned Customer Names for Database Entry:\")\n",
    "for name in cleaned_names:\n",
    "    print(name)\n"
   ]
  },
  {
   "cell_type": "code",
   "execution_count": null,
   "id": "795bc613-dcfe-4b9f-9147-b95b6e6a1a08",
   "metadata": {},
   "outputs": [],
   "source": []
  },
  {
   "cell_type": "markdown",
   "id": "61485976-b531-4afc-ad58-3e985b0ee8ea",
   "metadata": {},
   "source": [
    "### Task 19: Simple Sales Forecasting\n",
    "Objective: Implement a basic forecasting model for next month’s sales.\n",
    "● Based on the average sales of the last 3 months, predict next month’s sales using a simple average.\n",
    "● Print the forecasted sales figures for budget planning."
   ]
  },
  {
   "cell_type": "code",
   "execution_count": 22,
   "id": "9435448e-5ac8-49d6-b53f-b5e02682f670",
   "metadata": {},
   "outputs": [
    {
     "name": "stdout",
     "output_type": "stream",
     "text": [
      "Forecasted Sales for Next Month: $22333.33\n"
     ]
    }
   ],
   "source": [
    "def main():\n",
    "    # Sales figures for the last 3 months\n",
    "    sales_last_3_months = [20000, 22000, 25000]\n",
    "\n",
    "    # Calculate average sales\n",
    "    forecasted_sales = sum(sales_last_3_months) / len(sales_last_3_months)\n",
    "\n",
    "    # Print the forecast sales\n",
    "    print(f\"Forecasted Sales for Next Month: ${forecasted_sales:.2f}\")\n",
    "\n",
    "# Run the main function\n",
    "main()\n"
   ]
  },
  {
   "cell_type": "code",
   "execution_count": null,
   "id": "44506976-6853-4e6a-928f-aa020ed3d48b",
   "metadata": {},
   "outputs": [],
   "source": []
  },
  {
   "cell_type": "markdown",
   "id": "359df5ad-06cb-436a-8f93-941fc669a09e",
   "metadata": {},
   "source": [
    "### Task 20: Customer Loyalty Points Calculator\n",
    "Objective: Calculate loyalty points for customers based on their purchases.\n",
    "● Write a code that assigns loyalty points to customers based on their total purchase amount. \n",
    "● Implement a tiered system where different spending levels earn different point multipliers.\n",
    "● Print the loyalty points for a list of customers."
   ]
  },
  {
   "cell_type": "code",
   "execution_count": 23,
   "id": "93ecce12-447b-49a5-a222-13883431b8ad",
   "metadata": {},
   "outputs": [
    {
     "name": "stdout",
     "output_type": "stream",
     "text": [
      "Customer Loyalty Points:\n",
      "John Doe: $250 Purchase, Loyalty Points: 375.0\n",
      "Jane Smith: $500 Purchase, Loyalty Points: 1000.0\n",
      "Alice Johnson: $1000 Purchase, Loyalty Points: 2000.0\n",
      "Bob White: $150 Purchase, Loyalty Points: 150.0\n"
     ]
    }
   ],
   "source": [
    "# Creating Customer purchase data as dictionery\n",
    "customers = {\n",
    "    \"John Doe\": 250,\n",
    "    \"Jane Smith\": 500,\n",
    "    \"Alice Johnson\": 1000,\n",
    "    \"Bob White\": 150\n",
    "}\n",
    "\n",
    "# Function to determine points multiplier based on purchase amount\n",
    "def get_multiplier(purchase):\n",
    "    if purchase < 200:\n",
    "        return 1.0\n",
    "    elif 200 <= purchase < 500:\n",
    "        return 1.5\n",
    "    else:\n",
    "        return 2.0\n",
    "\n",
    "# Calculate and print loyalty points\n",
    "print(\"Customer Loyalty Points:\")\n",
    "for name, purchase in customers.items():\n",
    "    multiplier = get_multiplier(purchase)\n",
    "    points = purchase * multiplier\n",
    "    print(f\"{name}: ${purchase} Purchase, Loyalty Points: {points:.1f}\")\n"
   ]
  },
  {
   "cell_type": "code",
   "execution_count": null,
   "id": "a0c17906-161c-44d7-acd2-c5069e293f3e",
   "metadata": {},
   "outputs": [],
   "source": []
  }
 ],
 "metadata": {
  "kernelspec": {
   "display_name": "Python 3 (ipykernel)",
   "language": "python",
   "name": "python3"
  },
  "language_info": {
   "codemirror_mode": {
    "name": "ipython",
    "version": 3
   },
   "file_extension": ".py",
   "mimetype": "text/x-python",
   "name": "python",
   "nbconvert_exporter": "python",
   "pygments_lexer": "ipython3",
   "version": "3.12.7"
  }
 },
 "nbformat": 4,
 "nbformat_minor": 5
}
